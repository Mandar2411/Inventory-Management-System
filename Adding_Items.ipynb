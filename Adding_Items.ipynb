{
 "cells": [
  {
   "cell_type": "markdown",
   "id": "5871aae9",
   "metadata": {},
   "source": [
    "# Inventory Management System"
   ]
  },
  {
   "cell_type": "markdown",
   "id": "317e0091",
   "metadata": {},
   "source": [
    "Adding new items to products list"
   ]
  },
  {
   "cell_type": "code",
   "execution_count": 30,
   "id": "7b15a764",
   "metadata": {},
   "outputs": [],
   "source": [
    "import json"
   ]
  },
  {
   "cell_type": "code",
   "execution_count": 31,
   "id": "3d2f4082",
   "metadata": {},
   "outputs": [],
   "source": [
    "items = dict()"
   ]
  },
  {
   "cell_type": "markdown",
   "id": "827b672c",
   "metadata": {},
   "source": [
    "Function to add new items "
   ]
  },
  {
   "cell_type": "code",
   "execution_count": 50,
   "id": "b7ec2724",
   "metadata": {},
   "outputs": [],
   "source": [
    "def addItems(noOfItems):\n",
    "    \n",
    "    fd = open(\"items.json\",'r')\n",
    "    r = fd.read()\n",
    "    fd.close()\n",
    "    \n",
    "    items = json.loads(r)\n",
    "    \n",
    "    for i in range (noOfItems):\n",
    "        prod_name = input(\"Enter product name : \")\n",
    "        prod_quantity = int(input(\"Enter the quantity of \" + prod_name + \" : \"))\n",
    "        prod_price = int(input(\"Enter the price of \" + prod_name + \" : \"))\n",
    "        prod_expiry = input(\"Enter the expiry date of \" + prod_name + \" in MM/YYYY format : \")\n",
    "        prod_category = input(\"Enter the category of \" + prod_name + \" : \")\n",
    "    \n",
    "        prod_id = str(len(items) + 1)\n",
    "        \n",
    "        # Adding product to items dictionary\n",
    "        items[prod_id] = {\"name\" : prod_name, \"quantity\" : prod_quantity, \"price\" : prod_price, \"expiryDate\" : prod_expiry, \"category\" : prod_category}    \n",
    "        print(\"\\n\")  \n",
    "    \n",
    "    # Updating items.json\n",
    "    js = json.dumps(items)\n",
    "    \n",
    "    fd = open(\"items.json\",'w')\n",
    "    fd.write(js)\n",
    "    fd.close()    "
   ]
  },
  {
   "cell_type": "markdown",
   "id": "a93fe8b2",
   "metadata": {},
   "source": [
    "# Run below cell for adding a new item"
   ]
  },
  {
   "cell_type": "code",
   "execution_count": 47,
   "id": "d785f355",
   "metadata": {},
   "outputs": [
    {
     "name": "stdout",
     "output_type": "stream",
     "text": [
      "Enter the number of items you want to add : 0\n",
      "\n",
      "\n",
      "Do you want to add more items?\n",
      "Y/N ? \n",
      "n\n",
      "\n",
      "\n",
      "\n",
      "See you again!\n"
     ]
    }
   ],
   "source": [
    "while(True):\n",
    "    noOfItems = int(input(\"Enter the number of items you want to add : \"))\n",
    "    print(\"\\n\");\n",
    "    \n",
    "    addItems(noOfItems)\n",
    "    \n",
    "    print(\"Do you want to add more items?\")\n",
    "    choice = input(\"Y/N ? \\n\")\n",
    "    print(\"\\n\\n\")\n",
    "    \n",
    "    if choice.upper()==\"Y\":\n",
    "        continue\n",
    "    else :\n",
    "        print(\"See you again!\")\n",
    "        break\n",
    "    "
   ]
  },
  {
   "cell_type": "markdown",
   "id": "3fc832b3",
   "metadata": {},
   "source": []
  },
  {
   "cell_type": "code",
   "execution_count": null,
   "id": "c6cdcce0",
   "metadata": {},
   "outputs": [],
   "source": []
  }
 ],
 "metadata": {
  "kernelspec": {
   "display_name": "Python 3",
   "language": "python",
   "name": "python3"
  },
  "language_info": {
   "codemirror_mode": {
    "name": "ipython",
    "version": 3
   },
   "file_extension": ".py",
   "mimetype": "text/x-python",
   "name": "python",
   "nbconvert_exporter": "python",
   "pygments_lexer": "ipython3",
   "version": "3.8.8"
  }
 },
 "nbformat": 4,
 "nbformat_minor": 5
}
